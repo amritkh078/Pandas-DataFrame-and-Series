{
 "cells": [
  {
   "cell_type": "code",
   "execution_count": 1,
   "metadata": {},
   "outputs": [],
   "source": [
    "# importing pandas to get started\n",
    "import pandas as pd"
   ]
  },
  {
   "cell_type": "code",
   "execution_count": 2,
   "metadata": {},
   "outputs": [
    {
     "data": {
      "text/plain": [
       "0    Alice\n",
       "1     Jack\n",
       "2    Molly\n",
       "dtype: object"
      ]
     },
     "execution_count": 2,
     "metadata": {},
     "output_type": "execute_result"
    }
   ],
   "source": [
    "# we can create a series by passing a list of values and when we do this, Pandas automatically asigns an index starting\n",
    "# with zero and sets the name of the Series to None.\n",
    "\n",
    "# The easiest way to create a series is to use an array-like object, like a list\n",
    "students = ['Alice', 'Jack', 'Molly']\n",
    "\n",
    "# now just call the Series function in pandas and pass in the students\n",
    "pd.Series(students)"
   ]
  },
  {
   "cell_type": "code",
   "execution_count": 3,
   "metadata": {},
   "outputs": [],
   "source": [
    "# The result ia a Series object which is  nicely rendered to the screen\n",
    "#  We see here that the pandas has automatically identified the type of data in the series as object and set the dtype \n",
    "# parameter as appropriate. We see that the values are indexed with integers starting with zero. Now we don't have to use\n",
    "# strings. If we passed in a list of whole numbers for instance, we can see that pandas sets the type to int 64. Underneath,\n",
    "# pandas storage series values in a typed array using the Numpy library. This offer significant speed-up when processing data\n",
    "# versus traditional python lists. "
   ]
  },
  {
   "cell_type": "code",
   "execution_count": 4,
   "metadata": {},
   "outputs": [
    {
     "data": {
      "text/plain": [
       "0    1\n",
       "1    2\n",
       "2    3\n",
       "dtype: int64"
      ]
     },
     "execution_count": 4,
     "metadata": {},
     "output_type": "execute_result"
    }
   ],
   "source": [
    "# create a list of numbers\n",
    "numbers =[1,2,3]\n",
    "# and turn that into Series\n",
    "pd.Series(numbers)"
   ]
  },
  {
   "cell_type": "code",
   "execution_count": 5,
   "metadata": {},
   "outputs": [
    {
     "data": {
      "text/plain": [
       "0    Alice\n",
       "1     Jack\n",
       "2     None\n",
       "dtype: object"
      ]
     },
     "execution_count": 5,
     "metadata": {},
     "output_type": "execute_result"
    }
   ],
   "source": [
    "# There's some other typing details that exists for performance that are important to know. The most important is how\n",
    "# Numpy and thus pandas handle missing data. In Python, we have the none type to indicate a lack of data. But what do we do\n",
    "# if we want to have a typed list like this in the series object? Underneath, pandas does some type conversion for us. \n",
    "# If we create a list of strings and we have one element, a None type, pandas inserts that as a None and uses the type object\n",
    "# for the underlying array\n",
    "\n",
    "# let's recreate our list of students, but leave the last one as None\n",
    "\n",
    "students = ['Alice', 'Jack', None]\n",
    "# and lets convert this to a Series\n",
    "pd.Series(students)"
   ]
  },
  {
   "cell_type": "code",
   "execution_count": 6,
   "metadata": {},
   "outputs": [
    {
     "data": {
      "text/plain": [
       "0    1.0\n",
       "1    2.0\n",
       "2    NaN\n",
       "dtype: float64"
      ]
     },
     "execution_count": 6,
     "metadata": {},
     "output_type": "execute_result"
    }
   ],
   "source": [
    "# if we create a list of numbers, integers, or floats and put it in a None type, pandas automatically converts this into \n",
    "# a special floating-point value designated as NaN which stands for Not a Number.\n",
    "# So let's see an example of this. \n",
    "numbers = [1,2, None]\n",
    "pd.Series(numbers)\n",
    "\n",
    "# NaN is not equivalent to None and when we try the equality test, the reault is False"
   ]
  },
  {
   "cell_type": "code",
   "execution_count": 7,
   "metadata": {},
   "outputs": [
    {
     "data": {
      "text/plain": [
       "False"
      ]
     },
     "execution_count": 7,
     "metadata": {},
     "output_type": "execute_result"
    }
   ],
   "source": [
    "# Let's bring in numpy which allows us to generate an Nan value\n",
    "import numpy as np\n",
    "# and compare it to None\n",
    "np.nan == None"
   ]
  },
  {
   "cell_type": "code",
   "execution_count": 8,
   "metadata": {},
   "outputs": [
    {
     "data": {
      "text/plain": [
       "False"
      ]
     },
     "execution_count": 8,
     "metadata": {},
     "output_type": "execute_result"
    }
   ],
   "source": [
    "# We can't do an equality test of NaN to itself.\n",
    "# NaN stands for \"Not a Number\"\n",
    "np.nan == np.nan"
   ]
  },
  {
   "cell_type": "code",
   "execution_count": 9,
   "metadata": {},
   "outputs": [
    {
     "data": {
      "text/plain": [
       "True"
      ]
     },
     "execution_count": 9,
     "metadata": {},
     "output_type": "execute_result"
    }
   ],
   "source": [
    "# We need to use special function to tst for the presence of a not a number\n",
    "# such as the Numpy libraray isnan().\n",
    "\n",
    "np.isnan(np.nan)"
   ]
  },
  {
   "cell_type": "code",
   "execution_count": 10,
   "metadata": {},
   "outputs": [],
   "source": [
    "# NaN is similar to None but it's a numeric value and treated differently \n",
    "# for efficiency reasons.\n"
   ]
  },
  {
   "cell_type": "code",
   "execution_count": 11,
   "metadata": {},
   "outputs": [],
   "source": [
    "# my List might be the common way to create some play data, often we have to label;\n",
    "# data and manipulate\n",
    "# A series can be created directly from dictionary data, an if this is done the index\n",
    "# is automatically assigned to the keys of the dictionary provided "
   ]
  },
  {
   "cell_type": "code",
   "execution_count": 13,
   "metadata": {},
   "outputs": [
    {
     "data": {
      "text/plain": [
       "Alice      Physics\n",
       "Jack     Chemistry\n",
       "Molly      English\n",
       "dtype: object"
      ]
     },
     "execution_count": 13,
     "metadata": {},
     "output_type": "execute_result"
    }
   ],
   "source": [
    "# Example\n",
    "\n",
    "students_scores = {'Alice': 'Physics',\n",
    "                  'Jack': 'Chemistry',\n",
    "                  'Molly': 'English'}\n",
    "s = pd.Series(students_scores)\n",
    "s"
   ]
  },
  {
   "cell_type": "code",
   "execution_count": 14,
   "metadata": {},
   "outputs": [],
   "source": [
    "# Since the data was a string, pandas set thge data type of the series to 'object'\n",
    "# We also see that the index, first column is also a string"
   ]
  },
  {
   "cell_type": "code",
   "execution_count": 15,
   "metadata": {},
   "outputs": [
    {
     "data": {
      "text/plain": [
       "Index(['Alice', 'Jack', 'Molly'], dtype='object')"
      ]
     },
     "execution_count": 15,
     "metadata": {},
     "output_type": "execute_result"
    }
   ],
   "source": [
    "# Once the series has been crested, we can get the index object using the index attribute\n",
    "\n",
    "s.index"
   ]
  },
  {
   "cell_type": "code",
   "execution_count": 17,
   "metadata": {},
   "outputs": [
    {
     "data": {
      "text/plain": [
       "0    (Alice, Brown)\n",
       "1     (Jack, White)\n",
       "2    (Molly, Green)\n",
       "dtype: object"
      ]
     },
     "execution_count": 17,
     "metadata": {},
     "output_type": "execute_result"
    }
   ],
   "source": [
    "# As we work with pandas w notice that a lot of things are implemented as numpy\n",
    "# arrays and have the dtype value set. This is true indices and here pandas infered\n",
    "# that we were using objects for the index\n",
    "\n",
    "# The dtype of object is not just for strings, but for arbitary objects\n",
    "\n",
    "# Lets create a more complex type of data, a list of tuples\n",
    "\n",
    "students = [('Alice', 'Brown'), ('Jack', 'White'), ('Molly', 'Green')]\n",
    "pd.Series(students)"
   ]
  },
  {
   "cell_type": "code",
   "execution_count": 18,
   "metadata": {},
   "outputs": [],
   "source": [
    "# Each of the tuple is stored in the series object and the type is object"
   ]
  },
  {
   "cell_type": "code",
   "execution_count": 19,
   "metadata": {},
   "outputs": [
    {
     "data": {
      "text/plain": [
       "Alice      Physics\n",
       "Jack     Chemistry\n",
       "Molly      English\n",
       "dtype: object"
      ]
     },
     "execution_count": 19,
     "metadata": {},
     "output_type": "execute_result"
    }
   ],
   "source": [
    "# We can also seperate our index creation from th edata by passing in the index\n",
    "# a list explicitly to the series.\n",
    "\n",
    "s = pd.Series(['Physics', 'Chemistry', 'English'], index = ['Alice', 'Jack', 'Molly'])\n",
    "s"
   ]
  },
  {
   "cell_type": "code",
   "execution_count": 22,
   "metadata": {},
   "outputs": [
    {
     "data": {
      "text/plain": [
       "Alice    Physics\n",
       "Molly    English\n",
       "Sam          NaN\n",
       "dtype: object"
      ]
     },
     "execution_count": 22,
     "metadata": {},
     "output_type": "execute_result"
    }
   ],
   "source": [
    "# So what happens if your list of values in the index object are not aligned\n",
    "# with the keys in your dictionary for creating the series? Well, pandas \n",
    "# overrides the automatic creation to favor only and all of the index values\n",
    "# that you provide it. So we'll ignore from your dictionary all keys which \n",
    "# are not near index and pandas will add None or NaN type values for any\n",
    "# index value you provide, which is not in your dictionary key list.\n",
    "\n",
    "# Here's an example, a pass in a dictionary of three items in this case the\n",
    "# students and their courses. \n",
    "students_scores = {'Alice':'Physics', 'Jack': 'Chemistry', 'Molly': 'English'}\n",
    "# when creating the sseries object we onlu ask for an index with three students \n",
    "# and exclude Jack\n",
    "\n",
    "s = pd.Series(students_scores, index = ['Alice', 'Molly', 'Sam'])\n",
    "s"
   ]
  },
  {
   "cell_type": "code",
   "execution_count": null,
   "metadata": {},
   "outputs": [],
   "source": [
    "# The result is that the Series object doesn't have Jack in it even though he was \n",
    "# in our original dataset, not explicitly does have Sam in it as a missing value"
   ]
  },
  {
   "cell_type": "code",
   "execution_count": null,
   "metadata": {},
   "outputs": [],
   "source": []
  }
 ],
 "metadata": {
  "kernelspec": {
   "display_name": "Python 3",
   "language": "python",
   "name": "python3"
  },
  "language_info": {
   "codemirror_mode": {
    "name": "ipython",
    "version": 3
   },
   "file_extension": ".py",
   "mimetype": "text/x-python",
   "name": "python",
   "nbconvert_exporter": "python",
   "pygments_lexer": "ipython3",
   "version": "3.8.3"
  }
 },
 "nbformat": 4,
 "nbformat_minor": 4
}
